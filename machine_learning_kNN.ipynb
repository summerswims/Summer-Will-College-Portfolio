{
  "nbformat": 4,
  "nbformat_minor": 0,
  "metadata": {
    "colab": {
      "provenance": []
    },
    "kernelspec": {
      "name": "python3",
      "display_name": "Python 3"
    },
    "language_info": {
      "name": "python"
    }
  },
  "cells": [
    {
      "cell_type": "markdown",
      "source": [
        "how to use riot API developer portal: https://towardsdatascience.com/how-to-use-riot-api-with-python-b93be82dbbd6\n",
        "\n"
      ],
      "metadata": {
        "id": "B-Z-jBR4lOZt"
      }
    },
    {
      "cell_type": "markdown",
      "source": [
        "Explanation of project:\n",
        "This file uses a k-Nearest Neighbors (k-NN) classifier and NumPy, Pandas, and Sci-Kit Learn to make predictions on the outcomes of eSports. We gathered data from the Riot Games API, split the data into training and testing, built the model, and tested the model. We had an accuracy of around 98 percent. K-NN uses Euclidean distance to find the pre-established k nearest training points to a test points and classifies the test point using the proportions of classes in the near points. For example, if three nearest points are in class 1 and two are in class 2, using a threshold of .5 the new test points would be classified as class 1. Note that the threshold can change in order to adjust False Positivity Rate or False Negativity Rate, depending on the project's context. \n"
      ],
      "metadata": {
        "id": "hdJX-su86HpX"
      }
    },
    {
      "cell_type": "code",
      "execution_count": null,
      "metadata": {
        "id": "0gkIH53-VdFq"
      },
      "outputs": [],
      "source": [
        "#my own code:\n",
        "\n",
        "import numpy as np\n",
        "import pandas as pd\n",
        "from sklearn.model_selection import train_test_split\n",
        "from sklearn.neighbors import KNeighborsClassifier\n",
        "\n",
        "df = pd.read_csv('/Users/loan/leagueDiamond1.csv')\n",
        "\n",
        "arr = df.to_numpy()\n",
        "\n",
        "\n",
        "#array slicing\n",
        "all_data = arr[1 : 9] #gets rid of index column and excludes label column\n",
        "all_labels = arr[9]  #assumes labels are in last column, hence -1\n",
        "\n",
        "# Splitting the data into training and testing data\n",
        "\n",
        "x=all_data\n",
        "y=all_labels\n",
        "\n",
        "x_train,x_test,y_train,y_test=train_test_split(x, y, test_size=0.2)\n",
        "\n",
        "K = []\n",
        "training = []\n",
        "test = []\n",
        "scores = {}\n",
        "\n",
        "print(len(test))\n",
        "#performing kNN algorithm\n",
        "\n",
        "for k in range(1,18957): #might be a range problem here\n",
        "\talgorithm = KNeighborsClassifier(n_neighbors = k)\n",
        "\talgorithm.fit(x_train, y_train)\n",
        "\n",
        "\ttraining_score = algorithm.score(x_train, y_train)\n",
        "\ttest_score = algorithm.score(x_test, y_test)\n",
        "\tK.append(k)\n",
        "\n",
        "\ttraining.append(training_score)\n",
        "\ttest.append(test_score)\n",
        "\tscores[k] = [training_score, test_score]\n",
        "\n",
        "for keys, values in scores.items():\n",
        "    print(keys, ':', values)\n",
        "\n",
        "#team's compiled code:\n",
        "\n",
        "from sklearn.neighbors import KNeighborsClassifier\n",
        "from sklearn.model_selection import train_test_split\n",
        "from sklearn.metrics import accuracy_score\n",
        "from sklearn import metrics \n",
        "import pandas as pd\n",
        "import numpy as np\n",
        "import matplotlib.pyplot as plt\n",
        "\n",
        "filename = \"league_dataset2.csv\"\n",
        "df = pd.read_csv(filename)\n",
        "\n",
        "arr = df.to_numpy()\n",
        "all_data = arr[:,4 : -1]\n",
        "all_labels = arr[:, -1]\n",
        "all_labels = all_labels.astype('int')\n",
        "training_data, testing_data, training_labels, testing_labels = train_test_split(all_data, all_labels, test_size=0.2, random_state=2)\n",
        "\n",
        "\n",
        "def model_func_param(paramater, index): #Use this function if you want to enter a paramater.\n",
        "    model = KNeighborsClassifier(n_neighbors=5)\n",
        "    model.fit(paramater, training_labels)\n",
        "    print(\"predicted:\", model.predict(testing_data[:, [index]]))\n",
        "    print(\"real:\" , testing_labels)\n",
        "    y_pred=model.predict(testing_data[:, [index]]) \n",
        "    print(\"Accuracy:\",(metrics.accuracy_score(testing_labels, y_pred))*100, \"%\")\n",
        "\n",
        "\n",
        "def model_func(): # Use this function if you want to run with all paramaters.\n",
        "    model = KNeighborsClassifier(n_neighbors=5)\n",
        "    model.fit(training_data, training_labels)\n",
        "    print(\"predicted:\", model.predict(testing_data))\n",
        "    print(\"real:\" , testing_labels)\n",
        "    y_pred=model.predict(testing_data) \n",
        "    print(\"Accuracy:\",(metrics.accuracy_score(testing_labels, y_pred))*100, \"%\")\n",
        "\n",
        "model_func()"
      ]
    },
    {
      "cell_type": "code",
      "source": [],
      "metadata": {
        "id": "q_tMx91blNtl"
      },
      "execution_count": null,
      "outputs": []
    }
  ]
}